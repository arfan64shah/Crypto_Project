{
 "cells": [
  {
   "cell_type": "code",
   "execution_count": 1,
   "id": "b6afb6fa-d88f-40a3-b9a7-4c79ab072bc6",
   "metadata": {},
   "outputs": [],
   "source": [
    "# import required libraries\n",
    "import requests as rq\n",
    "import pandas as pd\n",
    "import numpy as np\n",
    "import time\n",
    "from sklearn.model_selection import train_test_split\n",
    "from category_encoders import TargetEncoder"
   ]
  },
  {
   "cell_type": "code",
   "execution_count": 7,
   "id": "61ac70da-5de5-4169-9158-099492a1fb8a",
   "metadata": {},
   "outputs": [
    {
     "data": {
      "text/plain": [
       "0"
      ]
     },
     "execution_count": 7,
     "metadata": {},
     "output_type": "execute_result"
    }
   ],
   "source": [
    "import sys\n",
    "import subprocess\n",
    "#sys.executable\n",
    "subprocess.check_call([sys.executable, \"-m\", \"pip\", \"install\", \"category_encoders\"])"
   ]
  },
  {
   "cell_type": "code",
   "execution_count": 11,
   "id": "e051b673-435f-4c69-a0a9-52da3b4d7715",
   "metadata": {},
   "outputs": [
    {
     "data": {
      "text/plain": [
       "0"
      ]
     },
     "execution_count": 11,
     "metadata": {},
     "output_type": "execute_result"
    }
   ],
   "source": [
    "subprocess.check_call([sys.executable, \"-m\", \"pip\", \"install\", \"--upgrade\", \"category_encoders\", \"scikit-learn\"])"
   ]
  },
  {
   "cell_type": "code",
   "execution_count": 8,
   "id": "367feac6-2d3b-432a-b058-86685981c243",
   "metadata": {},
   "outputs": [
    {
     "name": "stdout",
     "output_type": "stream",
     "text": [
      "Name: category_encoders\n",
      "Version: 2.8.1\n",
      "Summary: A package for encoding categorical variables for machine learning\n",
      "Home-page: \n",
      "Author: PaulWestenthanner\n",
      "Author-email: paul@westenthanner.dev\n",
      "License: BSD-3\n",
      "Location: C:\\Users\\Arfan Shah\\AppData\\Local\\Programs\\Python\\Python311\\Lib\\site-packages\n",
      "Requires: numpy, pandas, patsy, scikit-learn, scipy, statsmodels\n",
      "Required-by: \n",
      "Note: you may need to restart the kernel to use updated packages.\n"
     ]
    }
   ],
   "source": [
    "pip show category_encoders"
   ]
  },
  {
   "cell_type": "code",
   "execution_count": 2,
   "id": "89894398-23ae-49a9-96f7-8a9ab6941844",
   "metadata": {},
   "outputs": [
    {
     "name": "stdout",
     "output_type": "stream",
     "text": [
      "Rate limit hit on page 6. waiting 60 seconds before retrying...\n",
      "Rate limit hit on page 9. waiting 60 seconds before retrying...\n",
      "Rate limit hit on page 14. waiting 60 seconds before retrying...\n",
      "Rate limit hit on page 19. waiting 60 seconds before retrying...\n",
      "Rate limit hit on page 25. waiting 60 seconds before retrying...\n",
      "Rate limit hit on page 32. waiting 60 seconds before retrying...\n",
      "Rate limit hit on page 37. waiting 60 seconds before retrying...\n",
      "Rate limit hit on page 41. waiting 60 seconds before retrying...\n",
      "Rate limit hit on page 46. waiting 60 seconds before retrying...\n",
      "               id      symbol  current_price    market_cap  total_volume\n",
      "0         bitcoin         btc   95531.000000  1.897194e+12  1.348921e+10\n",
      "1        ethereum         eth    1831.890000  2.211723e+11  7.557637e+09\n",
      "2          tether        usdt       1.000000  1.493621e+11  1.214679e+10\n",
      "3          ripple         xrp       2.190000  1.281351e+11  1.305868e+09\n",
      "4     binancecoin         bnb     593.260000  8.654588e+10  4.185569e+08\n",
      "...           ...         ...            ...           ...           ...\n",
      "9995  crazy-tiger  crazytiger       0.000000  0.000000e+00  7.360000e+00\n",
      "9996        aurix         aur       0.694704  0.000000e+00  8.791300e+04\n",
      "9997        lower       lower       0.000020  0.000000e+00  5.387800e+02\n",
      "9998         pola        pola       0.000064  0.000000e+00  1.770000e+00\n",
      "9999  aave-v3-uni        auni       5.090000  0.000000e+00  0.000000e+00\n",
      "\n",
      "[10000 rows x 5 columns]\n",
      "Dataset dimensions:  (10000, 5)\n"
     ]
    }
   ],
   "source": [
    "# url of API\n",
    "url = 'https://api.coingecko.com/api/v3/coins/markets'\n",
    "\n",
    "# create an empty list to store data in loop\n",
    "all_data = []\n",
    "\n",
    "# iterate over a loop and get more data\n",
    "for page in range(1, 50):\n",
    "\n",
    "    # define parameters\n",
    "    params = {\n",
    "        'vs_currency': 'usd',\n",
    "        'order': 'market_cap_desc',\n",
    "        'per_page': 250,\n",
    "        'page': page,\n",
    "        'sparkline': False\n",
    "    }\n",
    "\n",
    "    # make a connection to API\n",
    "    api_response = rq.get(url, params = params)\n",
    "\n",
    "    # check the response\n",
    "    if api_response.status_code == 200:\n",
    "        # get data in json format\n",
    "        data = api_response.json()\n",
    "\n",
    "        # check if data is not present just break\n",
    "        if not data:\n",
    "            print(f\"Data not found in {page}\")\n",
    "            break\n",
    "        # data addition to list\n",
    "        all_data.extend(data)\n",
    "        time.sleep(1.5)\n",
    "    elif api_response.status_code == 429:\n",
    "        print(f\"Rate limit hit on page {page}. waiting 60 seconds before retrying...\")\n",
    "        time.sleep(60)\n",
    "        continue\n",
    "    else:\n",
    "        print(f\"Failed to fetch page {page}: {api_response.status_code}\")\n",
    "        break\n",
    "\n",
    "# pandas dataframe\n",
    "dataset = pd.DataFrame(all_data)\n",
    "\n",
    "# extract the needy data\n",
    "dataset = dataset[['id', 'symbol', 'current_price', 'market_cap', 'total_volume']]\n",
    "\n",
    "print(dataset)\n",
    "# shape\n",
    "print(\"Dataset dimensions: \", dataset.shape)"
   ]
  },
  {
   "cell_type": "code",
   "execution_count": 3,
   "id": "fd6b0a08-83e5-4412-a1fc-b8157e012929",
   "metadata": {},
   "outputs": [
    {
     "data": {
      "text/html": [
       "<div>\n",
       "<style scoped>\n",
       "    .dataframe tbody tr th:only-of-type {\n",
       "        vertical-align: middle;\n",
       "    }\n",
       "\n",
       "    .dataframe tbody tr th {\n",
       "        vertical-align: top;\n",
       "    }\n",
       "\n",
       "    .dataframe thead th {\n",
       "        text-align: right;\n",
       "    }\n",
       "</style>\n",
       "<table border=\"1\" class=\"dataframe\">\n",
       "  <thead>\n",
       "    <tr style=\"text-align: right;\">\n",
       "      <th></th>\n",
       "      <th>id</th>\n",
       "      <th>symbol</th>\n",
       "      <th>current_price</th>\n",
       "      <th>market_cap</th>\n",
       "      <th>total_volume</th>\n",
       "    </tr>\n",
       "  </thead>\n",
       "  <tbody>\n",
       "    <tr>\n",
       "      <th>0</th>\n",
       "      <td>bitcoin</td>\n",
       "      <td>btc</td>\n",
       "      <td>95498.00</td>\n",
       "      <td>1.896525e+12</td>\n",
       "      <td>1.364887e+10</td>\n",
       "    </tr>\n",
       "    <tr>\n",
       "      <th>1</th>\n",
       "      <td>ethereum</td>\n",
       "      <td>eth</td>\n",
       "      <td>1832.45</td>\n",
       "      <td>2.212325e+11</td>\n",
       "      <td>7.458328e+09</td>\n",
       "    </tr>\n",
       "    <tr>\n",
       "      <th>2</th>\n",
       "      <td>tether</td>\n",
       "      <td>usdt</td>\n",
       "      <td>1.00</td>\n",
       "      <td>1.493566e+11</td>\n",
       "      <td>1.373999e+10</td>\n",
       "    </tr>\n",
       "    <tr>\n",
       "      <th>3</th>\n",
       "      <td>ripple</td>\n",
       "      <td>xrp</td>\n",
       "      <td>2.19</td>\n",
       "      <td>1.281218e+11</td>\n",
       "      <td>1.146658e+09</td>\n",
       "    </tr>\n",
       "    <tr>\n",
       "      <th>4</th>\n",
       "      <td>binancecoin</td>\n",
       "      <td>bnb</td>\n",
       "      <td>595.19</td>\n",
       "      <td>8.682996e+10</td>\n",
       "      <td>3.779550e+08</td>\n",
       "    </tr>\n",
       "  </tbody>\n",
       "</table>\n",
       "</div>"
      ],
      "text/plain": [
       "            id symbol  current_price    market_cap  total_volume\n",
       "0      bitcoin    btc       95498.00  1.896525e+12  1.364887e+10\n",
       "1     ethereum    eth        1832.45  2.212325e+11  7.458328e+09\n",
       "2       tether   usdt           1.00  1.493566e+11  1.373999e+10\n",
       "3       ripple    xrp           2.19  1.281218e+11  1.146658e+09\n",
       "4  binancecoin    bnb         595.19  8.682996e+10  3.779550e+08"
      ]
     },
     "execution_count": 3,
     "metadata": {},
     "output_type": "execute_result"
    }
   ],
   "source": [
    "# display few rows\n",
    "dataset.head()"
   ]
  },
  {
   "cell_type": "code",
   "execution_count": 4,
   "id": "0e6ab936-f1b9-4360-91fb-9b46263ae0a3",
   "metadata": {},
   "outputs": [
    {
     "data": {
      "text/plain": [
       "(10250, 5)"
      ]
     },
     "execution_count": 4,
     "metadata": {},
     "output_type": "execute_result"
    }
   ],
   "source": [
    "# find shape of final_dataset\n",
    "dataset.shape"
   ]
  },
  {
   "cell_type": "code",
   "execution_count": 5,
   "id": "d70d3d49-e4af-4744-a168-c60e623367b8",
   "metadata": {},
   "outputs": [
    {
     "data": {
      "text/plain": [
       "id               0\n",
       "symbol           0\n",
       "current_price    2\n",
       "market_cap       0\n",
       "total_volume     0\n",
       "dtype: int64"
      ]
     },
     "execution_count": 5,
     "metadata": {},
     "output_type": "execute_result"
    }
   ],
   "source": [
    "# find any null values\n",
    "dataset.isnull().sum()"
   ]
  },
  {
   "cell_type": "code",
   "execution_count": 6,
   "id": "aa916519-2b51-49a7-88c1-fc15a15efaee",
   "metadata": {},
   "outputs": [
    {
     "data": {
      "text/plain": [
       "pandas.core.frame.DataFrame"
      ]
     },
     "execution_count": 6,
     "metadata": {},
     "output_type": "execute_result"
    }
   ],
   "source": [
    "# find type of dataset\n",
    "type(dataset)"
   ]
  },
  {
   "cell_type": "code",
   "execution_count": 7,
   "id": "99ed224f-885e-4054-b9e2-d9704c08538c",
   "metadata": {},
   "outputs": [],
   "source": [
    "# we have just two null values, so i need to remove those columns as they are very few\n",
    "dataset = dataset[dataset['current_price'].notna()]"
   ]
  },
  {
   "cell_type": "code",
   "execution_count": 8,
   "id": "842c5c9a-8f40-4427-a9fe-b2182cb24ab6",
   "metadata": {},
   "outputs": [
    {
     "data": {
      "text/plain": [
       "id               0\n",
       "symbol           0\n",
       "current_price    0\n",
       "market_cap       0\n",
       "total_volume     0\n",
       "dtype: int64"
      ]
     },
     "execution_count": 8,
     "metadata": {},
     "output_type": "execute_result"
    }
   ],
   "source": [
    "# now check the null values\n",
    "dataset.isnull().sum()"
   ]
  },
  {
   "cell_type": "code",
   "execution_count": 9,
   "id": "50376ce4-bbbb-40c8-b815-306a2601bdb7",
   "metadata": {},
   "outputs": [
    {
     "data": {
      "text/plain": [
       "(10248, 5)"
      ]
     },
     "execution_count": 9,
     "metadata": {},
     "output_type": "execute_result"
    }
   ],
   "source": [
    "# now find dataset's shape\n",
    "dataset.shape"
   ]
  },
  {
   "cell_type": "code",
   "execution_count": 10,
   "id": "9c1daa35-da7b-4694-b6e7-d53efcf67e00",
   "metadata": {},
   "outputs": [
    {
     "data": {
      "text/plain": [
       "id                object\n",
       "symbol            object\n",
       "current_price    float64\n",
       "market_cap       float64\n",
       "total_volume     float64\n",
       "dtype: object"
      ]
     },
     "execution_count": 10,
     "metadata": {},
     "output_type": "execute_result"
    }
   ],
   "source": [
    "# check data types in dataset\n",
    "dataset.dtypes"
   ]
  },
  {
   "cell_type": "code",
   "execution_count": 11,
   "id": "b8b0dd18-6bca-41aa-a09a-88ac5144be54",
   "metadata": {},
   "outputs": [
    {
     "data": {
      "text/plain": [
       "9817"
      ]
     },
     "execution_count": 11,
     "metadata": {},
     "output_type": "execute_result"
    }
   ],
   "source": [
    "# we have two objects lets find unique values in each column\n",
    "dataset.id.nunique()"
   ]
  },
  {
   "cell_type": "code",
   "execution_count": 12,
   "id": "aca5985e-3a4b-44e8-b275-37d235529252",
   "metadata": {},
   "outputs": [
    {
     "data": {
      "text/plain": [
       "8090"
      ]
     },
     "execution_count": 12,
     "metadata": {},
     "output_type": "execute_result"
    }
   ],
   "source": [
    "# check unique values in second column\n",
    "dataset.symbol.nunique()"
   ]
  },
  {
   "cell_type": "code",
   "execution_count": 13,
   "id": "f3b1cc6d-703c-41e0-a331-3a93a9fc3053",
   "metadata": {},
   "outputs": [
    {
     "data": {
      "text/plain": [
       "Index(['id', 'symbol', 'current_price', 'market_cap', 'total_volume'], dtype='object')"
      ]
     },
     "execution_count": 13,
     "metadata": {},
     "output_type": "execute_result"
    }
   ],
   "source": [
    "# columns\n",
    "dataset.columns"
   ]
  },
  {
   "cell_type": "code",
   "execution_count": 19,
   "id": "2b2d3194-4d2d-47e6-bc63-4cbd56aafcde",
   "metadata": {},
   "outputs": [
    {
     "data": {
      "text/plain": [
       "0    1.364887e+10\n",
       "1    7.458328e+09\n",
       "2    1.373999e+10\n",
       "3    1.146658e+09\n",
       "4    3.779550e+08\n",
       "Name: total_volume, dtype: float64"
      ]
     },
     "execution_count": 19,
     "metadata": {},
     "output_type": "execute_result"
    }
   ],
   "source": [
    "# apply encoding to deal with the high number of categories in id and symbol\n",
    "# Define features and target (e.g., predicting current_price)\n",
    "x = dataset[['id', 'symbol', 'market_cap', 'current_price']]\n",
    "y = dataset['total_volume']\n",
    "\n",
    "y.head()"
   ]
  },
  {
   "cell_type": "code",
   "execution_count": 22,
   "id": "75b23fc4-9210-4751-9637-58246ce9fdba",
   "metadata": {},
   "outputs": [
    {
     "ename": "NameError",
     "evalue": "name 'TargetEncoder' is not defined",
     "output_type": "error",
     "traceback": [
      "\u001b[1;31m---------------------------------------------------------------------------\u001b[0m",
      "\u001b[1;31mNameError\u001b[0m                                 Traceback (most recent call last)",
      "Cell \u001b[1;32mIn[22], line 5\u001b[0m\n\u001b[0;32m      2\u001b[0m x_train, x_test, y_train, y_test \u001b[38;5;241m=\u001b[39m train_test_split(x, y, test_size\u001b[38;5;241m=\u001b[39m\u001b[38;5;241m0.2\u001b[39m, random_state\u001b[38;5;241m=\u001b[39m\u001b[38;5;241m42\u001b[39m)\n\u001b[0;32m      4\u001b[0m \u001b[38;5;66;03m# Apply target encoding\u001b[39;00m\n\u001b[1;32m----> 5\u001b[0m encoder \u001b[38;5;241m=\u001b[39m \u001b[43mTargetEncoder\u001b[49m(cols\u001b[38;5;241m=\u001b[39m[\u001b[38;5;124m'\u001b[39m\u001b[38;5;124mid\u001b[39m\u001b[38;5;124m'\u001b[39m, \u001b[38;5;124m'\u001b[39m\u001b[38;5;124msymbol\u001b[39m\u001b[38;5;124m'\u001b[39m])\n\u001b[0;32m      6\u001b[0m x_train_encoded \u001b[38;5;241m=\u001b[39m encoder\u001b[38;5;241m.\u001b[39mfit_transform(x_train, y_train)\n\u001b[0;32m      7\u001b[0m x_test_encoded \u001b[38;5;241m=\u001b[39m encoder\u001b[38;5;241m.\u001b[39mtransform(x_test)\n",
      "\u001b[1;31mNameError\u001b[0m: name 'TargetEncoder' is not defined"
     ]
    }
   ],
   "source": [
    "# Split data to avoid leakage\n",
    "x_train, x_test, y_train, y_test = train_test_split(x, y, test_size=0.2, random_state=42)\n",
    "\n",
    "# Apply target encoding\n",
    "encoder = TargetEncoder(cols=['id', 'symbol'])\n",
    "x_train_encoded = encoder.fit_transform(x_train, y_train)\n",
    "x_test_encoded = encoder.transform(x_test)\n",
    "x_train_encoded.head()"
   ]
  },
  {
   "cell_type": "code",
   "execution_count": 1,
   "id": "37e7e5eb-52b6-44cc-af30-f319ff0e767e",
   "metadata": {},
   "outputs": [],
   "source": [
    "# import libraries\n",
    "import pandas as pd\n",
    "import numpy as np"
   ]
  },
  {
   "cell_type": "code",
   "execution_count": 23,
   "id": "cb8b2286-c191-405f-b7c9-bd4fee3736a1",
   "metadata": {},
   "outputs": [
    {
     "data": {
      "text/html": [
       "<div>\n",
       "<style scoped>\n",
       "    .dataframe tbody tr th:only-of-type {\n",
       "        vertical-align: middle;\n",
       "    }\n",
       "\n",
       "    .dataframe tbody tr th {\n",
       "        vertical-align: top;\n",
       "    }\n",
       "\n",
       "    .dataframe thead th {\n",
       "        text-align: right;\n",
       "    }\n",
       "</style>\n",
       "<table border=\"1\" class=\"dataframe\">\n",
       "  <thead>\n",
       "    <tr style=\"text-align: right;\">\n",
       "      <th></th>\n",
       "      <th>Unnamed: 0</th>\n",
       "      <th>id</th>\n",
       "      <th>symbol</th>\n",
       "      <th>current_price</th>\n",
       "      <th>market_cap</th>\n",
       "      <th>total_volume</th>\n",
       "    </tr>\n",
       "  </thead>\n",
       "  <tbody>\n",
       "    <tr>\n",
       "      <th>0</th>\n",
       "      <td>0</td>\n",
       "      <td>bitcoin</td>\n",
       "      <td>btc</td>\n",
       "      <td>95531.00</td>\n",
       "      <td>1.897194e+12</td>\n",
       "      <td>1.348921e+10</td>\n",
       "    </tr>\n",
       "    <tr>\n",
       "      <th>1</th>\n",
       "      <td>1</td>\n",
       "      <td>ethereum</td>\n",
       "      <td>eth</td>\n",
       "      <td>1831.89</td>\n",
       "      <td>2.211723e+11</td>\n",
       "      <td>7.557637e+09</td>\n",
       "    </tr>\n",
       "    <tr>\n",
       "      <th>2</th>\n",
       "      <td>2</td>\n",
       "      <td>tether</td>\n",
       "      <td>usdt</td>\n",
       "      <td>1.00</td>\n",
       "      <td>1.493621e+11</td>\n",
       "      <td>1.214679e+10</td>\n",
       "    </tr>\n",
       "    <tr>\n",
       "      <th>3</th>\n",
       "      <td>3</td>\n",
       "      <td>ripple</td>\n",
       "      <td>xrp</td>\n",
       "      <td>2.19</td>\n",
       "      <td>1.281351e+11</td>\n",
       "      <td>1.305868e+09</td>\n",
       "    </tr>\n",
       "    <tr>\n",
       "      <th>4</th>\n",
       "      <td>4</td>\n",
       "      <td>binancecoin</td>\n",
       "      <td>bnb</td>\n",
       "      <td>593.26</td>\n",
       "      <td>8.654588e+10</td>\n",
       "      <td>4.185569e+08</td>\n",
       "    </tr>\n",
       "  </tbody>\n",
       "</table>\n",
       "</div>"
      ],
      "text/plain": [
       "   Unnamed: 0           id symbol  current_price    market_cap  total_volume\n",
       "0           0      bitcoin    btc       95531.00  1.897194e+12  1.348921e+10\n",
       "1           1     ethereum    eth        1831.89  2.211723e+11  7.557637e+09\n",
       "2           2       tether   usdt           1.00  1.493621e+11  1.214679e+10\n",
       "3           3       ripple    xrp           2.19  1.281351e+11  1.305868e+09\n",
       "4           4  binancecoin    bnb         593.26  8.654588e+10  4.185569e+08"
      ]
     },
     "execution_count": 23,
     "metadata": {},
     "output_type": "execute_result"
    }
   ],
   "source": [
    "data = pd.read_excel('crypto_data.xlsx')\n",
    "data.head()"
   ]
  },
  {
   "cell_type": "code",
   "execution_count": 24,
   "id": "02729593-2a3b-42ac-81ec-dbd55a231dcd",
   "metadata": {},
   "outputs": [],
   "source": [
    "# change two column names\n",
    "data = data.rename(columns = {'Unnamed: 0':'id', 'id':'name'})"
   ]
  },
  {
   "cell_type": "code",
   "execution_count": 25,
   "id": "97817dd5-9f1d-490e-968b-50898f6367ce",
   "metadata": {},
   "outputs": [
    {
     "data": {
      "text/html": [
       "<div>\n",
       "<style scoped>\n",
       "    .dataframe tbody tr th:only-of-type {\n",
       "        vertical-align: middle;\n",
       "    }\n",
       "\n",
       "    .dataframe tbody tr th {\n",
       "        vertical-align: top;\n",
       "    }\n",
       "\n",
       "    .dataframe thead th {\n",
       "        text-align: right;\n",
       "    }\n",
       "</style>\n",
       "<table border=\"1\" class=\"dataframe\">\n",
       "  <thead>\n",
       "    <tr style=\"text-align: right;\">\n",
       "      <th></th>\n",
       "      <th>id</th>\n",
       "      <th>name</th>\n",
       "      <th>symbol</th>\n",
       "      <th>current_price</th>\n",
       "      <th>market_cap</th>\n",
       "      <th>total_volume</th>\n",
       "    </tr>\n",
       "  </thead>\n",
       "  <tbody>\n",
       "    <tr>\n",
       "      <th>0</th>\n",
       "      <td>0</td>\n",
       "      <td>bitcoin</td>\n",
       "      <td>btc</td>\n",
       "      <td>95531.00</td>\n",
       "      <td>1.897194e+12</td>\n",
       "      <td>1.348921e+10</td>\n",
       "    </tr>\n",
       "    <tr>\n",
       "      <th>1</th>\n",
       "      <td>1</td>\n",
       "      <td>ethereum</td>\n",
       "      <td>eth</td>\n",
       "      <td>1831.89</td>\n",
       "      <td>2.211723e+11</td>\n",
       "      <td>7.557637e+09</td>\n",
       "    </tr>\n",
       "    <tr>\n",
       "      <th>2</th>\n",
       "      <td>2</td>\n",
       "      <td>tether</td>\n",
       "      <td>usdt</td>\n",
       "      <td>1.00</td>\n",
       "      <td>1.493621e+11</td>\n",
       "      <td>1.214679e+10</td>\n",
       "    </tr>\n",
       "    <tr>\n",
       "      <th>3</th>\n",
       "      <td>3</td>\n",
       "      <td>ripple</td>\n",
       "      <td>xrp</td>\n",
       "      <td>2.19</td>\n",
       "      <td>1.281351e+11</td>\n",
       "      <td>1.305868e+09</td>\n",
       "    </tr>\n",
       "    <tr>\n",
       "      <th>4</th>\n",
       "      <td>4</td>\n",
       "      <td>binancecoin</td>\n",
       "      <td>bnb</td>\n",
       "      <td>593.26</td>\n",
       "      <td>8.654588e+10</td>\n",
       "      <td>4.185569e+08</td>\n",
       "    </tr>\n",
       "  </tbody>\n",
       "</table>\n",
       "</div>"
      ],
      "text/plain": [
       "   id         name symbol  current_price    market_cap  total_volume\n",
       "0   0      bitcoin    btc       95531.00  1.897194e+12  1.348921e+10\n",
       "1   1     ethereum    eth        1831.89  2.211723e+11  7.557637e+09\n",
       "2   2       tether   usdt           1.00  1.493621e+11  1.214679e+10\n",
       "3   3       ripple    xrp           2.19  1.281351e+11  1.305868e+09\n",
       "4   4  binancecoin    bnb         593.26  8.654588e+10  4.185569e+08"
      ]
     },
     "execution_count": 25,
     "metadata": {},
     "output_type": "execute_result"
    }
   ],
   "source": [
    "data.head()"
   ]
  },
  {
   "cell_type": "code",
   "execution_count": 26,
   "id": "c2ed6381-5048-4ba6-baf2-29497f7df974",
   "metadata": {},
   "outputs": [],
   "source": [
    "# now save in csv\n",
    "data.to_csv('crypto.csv')"
   ]
  },
  {
   "cell_type": "code",
   "execution_count": 30,
   "id": "1756468f-25c6-458d-906c-9db8edb0aafb",
   "metadata": {},
   "outputs": [
    {
     "data": {
      "text/html": [
       "<div>\n",
       "<style scoped>\n",
       "    .dataframe tbody tr th:only-of-type {\n",
       "        vertical-align: middle;\n",
       "    }\n",
       "\n",
       "    .dataframe tbody tr th {\n",
       "        vertical-align: top;\n",
       "    }\n",
       "\n",
       "    .dataframe thead th {\n",
       "        text-align: right;\n",
       "    }\n",
       "</style>\n",
       "<table border=\"1\" class=\"dataframe\">\n",
       "  <thead>\n",
       "    <tr style=\"text-align: right;\">\n",
       "      <th></th>\n",
       "      <th>Unnamed: 0</th>\n",
       "      <th>id</th>\n",
       "      <th>name</th>\n",
       "      <th>symbol</th>\n",
       "      <th>current_price</th>\n",
       "      <th>market_cap</th>\n",
       "      <th>total_volume</th>\n",
       "    </tr>\n",
       "  </thead>\n",
       "  <tbody>\n",
       "    <tr>\n",
       "      <th>0</th>\n",
       "      <td>0</td>\n",
       "      <td>0</td>\n",
       "      <td>bitcoin</td>\n",
       "      <td>btc</td>\n",
       "      <td>95531.00</td>\n",
       "      <td>1.897194e+12</td>\n",
       "      <td>1.348921e+10</td>\n",
       "    </tr>\n",
       "    <tr>\n",
       "      <th>1</th>\n",
       "      <td>1</td>\n",
       "      <td>1</td>\n",
       "      <td>ethereum</td>\n",
       "      <td>eth</td>\n",
       "      <td>1831.89</td>\n",
       "      <td>2.211723e+11</td>\n",
       "      <td>7.557637e+09</td>\n",
       "    </tr>\n",
       "    <tr>\n",
       "      <th>2</th>\n",
       "      <td>2</td>\n",
       "      <td>2</td>\n",
       "      <td>tether</td>\n",
       "      <td>usdt</td>\n",
       "      <td>1.00</td>\n",
       "      <td>1.493621e+11</td>\n",
       "      <td>1.214679e+10</td>\n",
       "    </tr>\n",
       "    <tr>\n",
       "      <th>3</th>\n",
       "      <td>3</td>\n",
       "      <td>3</td>\n",
       "      <td>ripple</td>\n",
       "      <td>xrp</td>\n",
       "      <td>2.19</td>\n",
       "      <td>1.281351e+11</td>\n",
       "      <td>1.305868e+09</td>\n",
       "    </tr>\n",
       "    <tr>\n",
       "      <th>4</th>\n",
       "      <td>4</td>\n",
       "      <td>4</td>\n",
       "      <td>binancecoin</td>\n",
       "      <td>bnb</td>\n",
       "      <td>593.26</td>\n",
       "      <td>8.654588e+10</td>\n",
       "      <td>4.185569e+08</td>\n",
       "    </tr>\n",
       "  </tbody>\n",
       "</table>\n",
       "</div>"
      ],
      "text/plain": [
       "   Unnamed: 0  id         name symbol  current_price    market_cap  \\\n",
       "0           0   0      bitcoin    btc       95531.00  1.897194e+12   \n",
       "1           1   1     ethereum    eth        1831.89  2.211723e+11   \n",
       "2           2   2       tether   usdt           1.00  1.493621e+11   \n",
       "3           3   3       ripple    xrp           2.19  1.281351e+11   \n",
       "4           4   4  binancecoin    bnb         593.26  8.654588e+10   \n",
       "\n",
       "   total_volume  \n",
       "0  1.348921e+10  \n",
       "1  7.557637e+09  \n",
       "2  1.214679e+10  \n",
       "3  1.305868e+09  \n",
       "4  4.185569e+08  "
      ]
     },
     "execution_count": 30,
     "metadata": {},
     "output_type": "execute_result"
    }
   ],
   "source": [
    "# read csv data\n",
    "dataset = pd.read_csv('crypto.csv')\n",
    "dataset.head()"
   ]
  },
  {
   "cell_type": "code",
   "execution_count": 35,
   "id": "f2b09b76-6034-4fcd-943a-88afc9d2396b",
   "metadata": {},
   "outputs": [
    {
     "data": {
      "text/plain": [
       "Unnamed: 0       0\n",
       "id               0\n",
       "name             0\n",
       "symbol           2\n",
       "current_price    2\n",
       "market_cap       0\n",
       "total_volume     0\n",
       "dtype: int64"
      ]
     },
     "execution_count": 35,
     "metadata": {},
     "output_type": "execute_result"
    }
   ],
   "source": [
    "dataset.isnull().sum()"
   ]
  },
  {
   "cell_type": "code",
   "execution_count": 36,
   "id": "8a0be4f2-7390-4e2b-afd5-fe65d6a5a3de",
   "metadata": {},
   "outputs": [],
   "source": [
    "dataset = dataset.dropna(axis = 1)"
   ]
  },
  {
   "cell_type": "code",
   "execution_count": 37,
   "id": "c5cb8ea1-9dfa-467d-91d8-46a4df9a1fa1",
   "metadata": {},
   "outputs": [
    {
     "data": {
      "text/plain": [
       "Unnamed: 0      0\n",
       "id              0\n",
       "name            0\n",
       "market_cap      0\n",
       "total_volume    0\n",
       "dtype: int64"
      ]
     },
     "execution_count": 37,
     "metadata": {},
     "output_type": "execute_result"
    }
   ],
   "source": [
    "dataset.isnull().sum()"
   ]
  },
  {
   "cell_type": "code",
   "execution_count": 40,
   "id": "d4167abf-65e7-4249-bbf5-1f43d3339214",
   "metadata": {},
   "outputs": [
    {
     "data": {
      "text/html": [
       "<div>\n",
       "<style scoped>\n",
       "    .dataframe tbody tr th:only-of-type {\n",
       "        vertical-align: middle;\n",
       "    }\n",
       "\n",
       "    .dataframe tbody tr th {\n",
       "        vertical-align: top;\n",
       "    }\n",
       "\n",
       "    .dataframe thead th {\n",
       "        text-align: right;\n",
       "    }\n",
       "</style>\n",
       "<table border=\"1\" class=\"dataframe\">\n",
       "  <thead>\n",
       "    <tr style=\"text-align: right;\">\n",
       "      <th></th>\n",
       "      <th>Unnamed: 0</th>\n",
       "      <th>id</th>\n",
       "      <th>name</th>\n",
       "      <th>market_cap</th>\n",
       "      <th>total_volume</th>\n",
       "    </tr>\n",
       "  </thead>\n",
       "  <tbody>\n",
       "    <tr>\n",
       "      <th>0</th>\n",
       "      <td>0</td>\n",
       "      <td>0</td>\n",
       "      <td>bitcoin</td>\n",
       "      <td>1.897194e+12</td>\n",
       "      <td>1.348921e+10</td>\n",
       "    </tr>\n",
       "    <tr>\n",
       "      <th>1</th>\n",
       "      <td>1</td>\n",
       "      <td>1</td>\n",
       "      <td>ethereum</td>\n",
       "      <td>2.211723e+11</td>\n",
       "      <td>7.557637e+09</td>\n",
       "    </tr>\n",
       "    <tr>\n",
       "      <th>2</th>\n",
       "      <td>2</td>\n",
       "      <td>2</td>\n",
       "      <td>tether</td>\n",
       "      <td>1.493621e+11</td>\n",
       "      <td>1.214679e+10</td>\n",
       "    </tr>\n",
       "    <tr>\n",
       "      <th>3</th>\n",
       "      <td>3</td>\n",
       "      <td>3</td>\n",
       "      <td>ripple</td>\n",
       "      <td>1.281351e+11</td>\n",
       "      <td>1.305868e+09</td>\n",
       "    </tr>\n",
       "    <tr>\n",
       "      <th>4</th>\n",
       "      <td>4</td>\n",
       "      <td>4</td>\n",
       "      <td>binancecoin</td>\n",
       "      <td>8.654588e+10</td>\n",
       "      <td>4.185569e+08</td>\n",
       "    </tr>\n",
       "  </tbody>\n",
       "</table>\n",
       "</div>"
      ],
      "text/plain": [
       "   Unnamed: 0  id         name    market_cap  total_volume\n",
       "0           0   0      bitcoin  1.897194e+12  1.348921e+10\n",
       "1           1   1     ethereum  2.211723e+11  7.557637e+09\n",
       "2           2   2       tether  1.493621e+11  1.214679e+10\n",
       "3           3   3       ripple  1.281351e+11  1.305868e+09\n",
       "4           4   4  binancecoin  8.654588e+10  4.185569e+08"
      ]
     },
     "execution_count": 40,
     "metadata": {},
     "output_type": "execute_result"
    }
   ],
   "source": [
    "dataset.head()"
   ]
  },
  {
   "cell_type": "code",
   "execution_count": 38,
   "id": "34f16a9f-798a-441d-bb35-7aa5c64f97d3",
   "metadata": {},
   "outputs": [],
   "source": [
    "dataset.to_csv('crypto.csv')"
   ]
  },
  {
   "cell_type": "code",
   "execution_count": 39,
   "id": "e4cb62ff-8c26-4df0-a366-de8070c28467",
   "metadata": {},
   "outputs": [
    {
     "data": {
      "text/html": [
       "<div>\n",
       "<style scoped>\n",
       "    .dataframe tbody tr th:only-of-type {\n",
       "        vertical-align: middle;\n",
       "    }\n",
       "\n",
       "    .dataframe tbody tr th {\n",
       "        vertical-align: top;\n",
       "    }\n",
       "\n",
       "    .dataframe thead th {\n",
       "        text-align: right;\n",
       "    }\n",
       "</style>\n",
       "<table border=\"1\" class=\"dataframe\">\n",
       "  <thead>\n",
       "    <tr style=\"text-align: right;\">\n",
       "      <th></th>\n",
       "      <th>Unnamed: 0.1</th>\n",
       "      <th>Unnamed: 0</th>\n",
       "      <th>id</th>\n",
       "      <th>name</th>\n",
       "      <th>market_cap</th>\n",
       "      <th>total_volume</th>\n",
       "    </tr>\n",
       "  </thead>\n",
       "  <tbody>\n",
       "    <tr>\n",
       "      <th>0</th>\n",
       "      <td>0</td>\n",
       "      <td>0</td>\n",
       "      <td>0</td>\n",
       "      <td>bitcoin</td>\n",
       "      <td>1.897194e+12</td>\n",
       "      <td>1.348921e+10</td>\n",
       "    </tr>\n",
       "    <tr>\n",
       "      <th>1</th>\n",
       "      <td>1</td>\n",
       "      <td>1</td>\n",
       "      <td>1</td>\n",
       "      <td>ethereum</td>\n",
       "      <td>2.211723e+11</td>\n",
       "      <td>7.557637e+09</td>\n",
       "    </tr>\n",
       "    <tr>\n",
       "      <th>2</th>\n",
       "      <td>2</td>\n",
       "      <td>2</td>\n",
       "      <td>2</td>\n",
       "      <td>tether</td>\n",
       "      <td>1.493621e+11</td>\n",
       "      <td>1.214679e+10</td>\n",
       "    </tr>\n",
       "    <tr>\n",
       "      <th>3</th>\n",
       "      <td>3</td>\n",
       "      <td>3</td>\n",
       "      <td>3</td>\n",
       "      <td>ripple</td>\n",
       "      <td>1.281351e+11</td>\n",
       "      <td>1.305868e+09</td>\n",
       "    </tr>\n",
       "    <tr>\n",
       "      <th>4</th>\n",
       "      <td>4</td>\n",
       "      <td>4</td>\n",
       "      <td>4</td>\n",
       "      <td>binancecoin</td>\n",
       "      <td>8.654588e+10</td>\n",
       "      <td>4.185569e+08</td>\n",
       "    </tr>\n",
       "  </tbody>\n",
       "</table>\n",
       "</div>"
      ],
      "text/plain": [
       "   Unnamed: 0.1  Unnamed: 0  id         name    market_cap  total_volume\n",
       "0             0           0   0      bitcoin  1.897194e+12  1.348921e+10\n",
       "1             1           1   1     ethereum  2.211723e+11  7.557637e+09\n",
       "2             2           2   2       tether  1.493621e+11  1.214679e+10\n",
       "3             3           3   3       ripple  1.281351e+11  1.305868e+09\n",
       "4             4           4   4  binancecoin  8.654588e+10  4.185569e+08"
      ]
     },
     "execution_count": 39,
     "metadata": {},
     "output_type": "execute_result"
    }
   ],
   "source": [
    "new_data = pd.read_csv('crypto.csv')\n",
    "new_data.head()"
   ]
  },
  {
   "cell_type": "code",
   "execution_count": 14,
   "id": "9a588b7f-d6f5-44f8-a85d-a7070251f3e2",
   "metadata": {},
   "outputs": [
    {
     "data": {
      "text/html": [
       "<div>\n",
       "<style scoped>\n",
       "    .dataframe tbody tr th:only-of-type {\n",
       "        vertical-align: middle;\n",
       "    }\n",
       "\n",
       "    .dataframe tbody tr th {\n",
       "        vertical-align: top;\n",
       "    }\n",
       "\n",
       "    .dataframe thead th {\n",
       "        text-align: right;\n",
       "    }\n",
       "</style>\n",
       "<table border=\"1\" class=\"dataframe\">\n",
       "  <thead>\n",
       "    <tr style=\"text-align: right;\">\n",
       "      <th></th>\n",
       "      <th>id</th>\n",
       "      <th>name</th>\n",
       "      <th>symbol</th>\n",
       "      <th>current_price</th>\n",
       "      <th>market_cap</th>\n",
       "      <th>total_volume</th>\n",
       "    </tr>\n",
       "  </thead>\n",
       "  <tbody>\n",
       "    <tr>\n",
       "      <th>0</th>\n",
       "      <td>0</td>\n",
       "      <td>bitcoin</td>\n",
       "      <td>btc</td>\n",
       "      <td>95531.000000</td>\n",
       "      <td>1.897194e+12</td>\n",
       "      <td>1.348921e+10</td>\n",
       "    </tr>\n",
       "    <tr>\n",
       "      <th>1</th>\n",
       "      <td>1</td>\n",
       "      <td>ethereum</td>\n",
       "      <td>eth</td>\n",
       "      <td>1831.890000</td>\n",
       "      <td>2.211723e+11</td>\n",
       "      <td>7.557637e+09</td>\n",
       "    </tr>\n",
       "    <tr>\n",
       "      <th>2</th>\n",
       "      <td>2</td>\n",
       "      <td>tether</td>\n",
       "      <td>usdt</td>\n",
       "      <td>1.000000</td>\n",
       "      <td>1.493621e+11</td>\n",
       "      <td>1.214679e+10</td>\n",
       "    </tr>\n",
       "    <tr>\n",
       "      <th>3</th>\n",
       "      <td>3</td>\n",
       "      <td>ripple</td>\n",
       "      <td>xrp</td>\n",
       "      <td>2.190000</td>\n",
       "      <td>1.281351e+11</td>\n",
       "      <td>1.305868e+09</td>\n",
       "    </tr>\n",
       "    <tr>\n",
       "      <th>4</th>\n",
       "      <td>4</td>\n",
       "      <td>binancecoin</td>\n",
       "      <td>bnb</td>\n",
       "      <td>593.260000</td>\n",
       "      <td>8.654588e+10</td>\n",
       "      <td>4.185569e+08</td>\n",
       "    </tr>\n",
       "    <tr>\n",
       "      <th>5</th>\n",
       "      <td>5</td>\n",
       "      <td>solana</td>\n",
       "      <td>sol</td>\n",
       "      <td>145.780000</td>\n",
       "      <td>7.546960e+10</td>\n",
       "      <td>1.801775e+09</td>\n",
       "    </tr>\n",
       "    <tr>\n",
       "      <th>6</th>\n",
       "      <td>6</td>\n",
       "      <td>usd-coin</td>\n",
       "      <td>usdc</td>\n",
       "      <td>0.999901</td>\n",
       "      <td>6.149781e+10</td>\n",
       "      <td>3.363861e+09</td>\n",
       "    </tr>\n",
       "    <tr>\n",
       "      <th>7</th>\n",
       "      <td>7</td>\n",
       "      <td>dogecoin</td>\n",
       "      <td>doge</td>\n",
       "      <td>0.174155</td>\n",
       "      <td>2.595548e+10</td>\n",
       "      <td>5.496827e+08</td>\n",
       "    </tr>\n",
       "    <tr>\n",
       "      <th>8</th>\n",
       "      <td>8</td>\n",
       "      <td>cardano</td>\n",
       "      <td>ada</td>\n",
       "      <td>0.690210</td>\n",
       "      <td>2.485809e+10</td>\n",
       "      <td>8.871609e+08</td>\n",
       "    </tr>\n",
       "    <tr>\n",
       "      <th>9</th>\n",
       "      <td>9</td>\n",
       "      <td>tron</td>\n",
       "      <td>trx</td>\n",
       "      <td>0.247239</td>\n",
       "      <td>2.347279e+10</td>\n",
       "      <td>4.503036e+08</td>\n",
       "    </tr>\n",
       "    <tr>\n",
       "      <th>10</th>\n",
       "      <td>10</td>\n",
       "      <td>staked-ether</td>\n",
       "      <td>steth</td>\n",
       "      <td>1831.150000</td>\n",
       "      <td>1.678836e+10</td>\n",
       "      <td>5.997864e+06</td>\n",
       "    </tr>\n",
       "    <tr>\n",
       "      <th>11</th>\n",
       "      <td>11</td>\n",
       "      <td>wrapped-bitcoin</td>\n",
       "      <td>wbtc</td>\n",
       "      <td>95384.000000</td>\n",
       "      <td>1.228598e+10</td>\n",
       "      <td>1.385410e+08</td>\n",
       "    </tr>\n",
       "    <tr>\n",
       "      <th>12</th>\n",
       "      <td>12</td>\n",
       "      <td>sui</td>\n",
       "      <td>sui</td>\n",
       "      <td>3.250000</td>\n",
       "      <td>1.083761e+10</td>\n",
       "      <td>1.052248e+09</td>\n",
       "    </tr>\n",
       "    <tr>\n",
       "      <th>13</th>\n",
       "      <td>13</td>\n",
       "      <td>chainlink</td>\n",
       "      <td>link</td>\n",
       "      <td>14.060000</td>\n",
       "      <td>9.238681e+09</td>\n",
       "      <td>2.234304e+08</td>\n",
       "    </tr>\n",
       "    <tr>\n",
       "      <th>14</th>\n",
       "      <td>14</td>\n",
       "      <td>avalanche-2</td>\n",
       "      <td>avax</td>\n",
       "      <td>20.130000</td>\n",
       "      <td>8.397080e+09</td>\n",
       "      <td>1.718635e+08</td>\n",
       "    </tr>\n",
       "    <tr>\n",
       "      <th>15</th>\n",
       "      <td>15</td>\n",
       "      <td>leo-token</td>\n",
       "      <td>leo</td>\n",
       "      <td>9.050000</td>\n",
       "      <td>8.355336e+09</td>\n",
       "      <td>2.120121e+06</td>\n",
       "    </tr>\n",
       "    <tr>\n",
       "      <th>16</th>\n",
       "      <td>16</td>\n",
       "      <td>stellar</td>\n",
       "      <td>xlm</td>\n",
       "      <td>0.268492</td>\n",
       "      <td>8.303334e+09</td>\n",
       "      <td>1.177862e+08</td>\n",
       "    </tr>\n",
       "    <tr>\n",
       "      <th>17</th>\n",
       "      <td>17</td>\n",
       "      <td>usds</td>\n",
       "      <td>usds</td>\n",
       "      <td>1.000000</td>\n",
       "      <td>7.923270e+09</td>\n",
       "      <td>7.390635e+06</td>\n",
       "    </tr>\n",
       "    <tr>\n",
       "      <th>18</th>\n",
       "      <td>18</td>\n",
       "      <td>the-open-network</td>\n",
       "      <td>ton</td>\n",
       "      <td>3.100000</td>\n",
       "      <td>7.721755e+09</td>\n",
       "      <td>8.050514e+07</td>\n",
       "    </tr>\n",
       "    <tr>\n",
       "      <th>19</th>\n",
       "      <td>19</td>\n",
       "      <td>wrapped-steth</td>\n",
       "      <td>wsteth</td>\n",
       "      <td>2196.560000</td>\n",
       "      <td>7.614709e+09</td>\n",
       "      <td>1.787893e+07</td>\n",
       "    </tr>\n",
       "  </tbody>\n",
       "</table>\n",
       "</div>"
      ],
      "text/plain": [
       "    id              name  symbol  current_price    market_cap  total_volume\n",
       "0    0           bitcoin     btc   95531.000000  1.897194e+12  1.348921e+10\n",
       "1    1          ethereum     eth    1831.890000  2.211723e+11  7.557637e+09\n",
       "2    2            tether    usdt       1.000000  1.493621e+11  1.214679e+10\n",
       "3    3            ripple     xrp       2.190000  1.281351e+11  1.305868e+09\n",
       "4    4       binancecoin     bnb     593.260000  8.654588e+10  4.185569e+08\n",
       "5    5            solana     sol     145.780000  7.546960e+10  1.801775e+09\n",
       "6    6          usd-coin    usdc       0.999901  6.149781e+10  3.363861e+09\n",
       "7    7          dogecoin    doge       0.174155  2.595548e+10  5.496827e+08\n",
       "8    8           cardano     ada       0.690210  2.485809e+10  8.871609e+08\n",
       "9    9              tron     trx       0.247239  2.347279e+10  4.503036e+08\n",
       "10  10      staked-ether   steth    1831.150000  1.678836e+10  5.997864e+06\n",
       "11  11   wrapped-bitcoin    wbtc   95384.000000  1.228598e+10  1.385410e+08\n",
       "12  12               sui     sui       3.250000  1.083761e+10  1.052248e+09\n",
       "13  13         chainlink    link      14.060000  9.238681e+09  2.234304e+08\n",
       "14  14       avalanche-2    avax      20.130000  8.397080e+09  1.718635e+08\n",
       "15  15         leo-token     leo       9.050000  8.355336e+09  2.120121e+06\n",
       "16  16           stellar     xlm       0.268492  8.303334e+09  1.177862e+08\n",
       "17  17              usds    usds       1.000000  7.923270e+09  7.390635e+06\n",
       "18  18  the-open-network     ton       3.100000  7.721755e+09  8.050514e+07\n",
       "19  19     wrapped-steth  wsteth    2196.560000  7.614709e+09  1.787893e+07"
      ]
     },
     "execution_count": 14,
     "metadata": {},
     "output_type": "execute_result"
    }
   ],
   "source": [
    "dataset.head(20)"
   ]
  },
  {
   "cell_type": "code",
   "execution_count": 21,
   "id": "ea1bfdd8-e38a-42f8-a611-96ad4283bfb4",
   "metadata": {},
   "outputs": [],
   "source": [
    "# save this in csv\n",
    "dataset.to_csv('crypto.csv')"
   ]
  },
  {
   "cell_type": "code",
   "execution_count": 22,
   "id": "28a2dbf6-3be9-445a-b6db-ae9cf05f8eb0",
   "metadata": {},
   "outputs": [
    {
     "data": {
      "text/plain": [
       "id                int64\n",
       "name             object\n",
       "market_cap      float64\n",
       "total_volume    float64\n",
       "dtype: object"
      ]
     },
     "execution_count": 22,
     "metadata": {},
     "output_type": "execute_result"
    }
   ],
   "source": [
    "dataset.dtypes"
   ]
  },
  {
   "cell_type": "code",
   "execution_count": 17,
   "id": "db099ad9-b106-44c0-91d8-73e135e41536",
   "metadata": {},
   "outputs": [
    {
     "data": {
      "text/plain": [
       "nan"
      ]
     },
     "execution_count": 17,
     "metadata": {},
     "output_type": "execute_result"
    }
   ],
   "source": [
    "dataset.iloc[7976]['current_price']"
   ]
  },
  {
   "cell_type": "code",
   "execution_count": 18,
   "id": "f8d0a12a-c7df-428b-8854-63ba9373d3fe",
   "metadata": {},
   "outputs": [
    {
     "data": {
      "text/plain": [
       "id               0\n",
       "name             0\n",
       "symbol           2\n",
       "current_price    2\n",
       "market_cap       0\n",
       "total_volume     0\n",
       "dtype: int64"
      ]
     },
     "execution_count": 18,
     "metadata": {},
     "output_type": "execute_result"
    }
   ],
   "source": [
    "dataset.isnull().sum()"
   ]
  },
  {
   "cell_type": "code",
   "execution_count": 19,
   "id": "d2f76905-42c7-4610-8d7d-b2a99ed2c71c",
   "metadata": {},
   "outputs": [],
   "source": [
    "# removce these nan values\n",
    "dataset = dataset.dropna(axis = 1)"
   ]
  },
  {
   "cell_type": "code",
   "execution_count": 20,
   "id": "73ec4eec-6215-4ce8-92ab-7d43b7fc8000",
   "metadata": {},
   "outputs": [],
   "source": [
    "dataset.to_csv('crypto.csv')"
   ]
  },
  {
   "cell_type": "code",
   "execution_count": 41,
   "id": "79303c49-62c6-49ce-b40c-f13663382947",
   "metadata": {},
   "outputs": [
    {
     "data": {
      "text/html": [
       "<div>\n",
       "<style scoped>\n",
       "    .dataframe tbody tr th:only-of-type {\n",
       "        vertical-align: middle;\n",
       "    }\n",
       "\n",
       "    .dataframe tbody tr th {\n",
       "        vertical-align: top;\n",
       "    }\n",
       "\n",
       "    .dataframe thead th {\n",
       "        text-align: right;\n",
       "    }\n",
       "</style>\n",
       "<table border=\"1\" class=\"dataframe\">\n",
       "  <thead>\n",
       "    <tr style=\"text-align: right;\">\n",
       "      <th></th>\n",
       "      <th>Unnamed: 0</th>\n",
       "      <th>id</th>\n",
       "      <th>symbol</th>\n",
       "      <th>current_price</th>\n",
       "      <th>market_cap</th>\n",
       "      <th>total_volume</th>\n",
       "    </tr>\n",
       "  </thead>\n",
       "  <tbody>\n",
       "    <tr>\n",
       "      <th>0</th>\n",
       "      <td>0</td>\n",
       "      <td>bitcoin</td>\n",
       "      <td>btc</td>\n",
       "      <td>95531.00</td>\n",
       "      <td>1.897194e+12</td>\n",
       "      <td>1.348921e+10</td>\n",
       "    </tr>\n",
       "    <tr>\n",
       "      <th>1</th>\n",
       "      <td>1</td>\n",
       "      <td>ethereum</td>\n",
       "      <td>eth</td>\n",
       "      <td>1831.89</td>\n",
       "      <td>2.211723e+11</td>\n",
       "      <td>7.557637e+09</td>\n",
       "    </tr>\n",
       "    <tr>\n",
       "      <th>2</th>\n",
       "      <td>2</td>\n",
       "      <td>tether</td>\n",
       "      <td>usdt</td>\n",
       "      <td>1.00</td>\n",
       "      <td>1.493621e+11</td>\n",
       "      <td>1.214679e+10</td>\n",
       "    </tr>\n",
       "    <tr>\n",
       "      <th>3</th>\n",
       "      <td>3</td>\n",
       "      <td>ripple</td>\n",
       "      <td>xrp</td>\n",
       "      <td>2.19</td>\n",
       "      <td>1.281351e+11</td>\n",
       "      <td>1.305868e+09</td>\n",
       "    </tr>\n",
       "    <tr>\n",
       "      <th>4</th>\n",
       "      <td>4</td>\n",
       "      <td>binancecoin</td>\n",
       "      <td>bnb</td>\n",
       "      <td>593.26</td>\n",
       "      <td>8.654588e+10</td>\n",
       "      <td>4.185569e+08</td>\n",
       "    </tr>\n",
       "  </tbody>\n",
       "</table>\n",
       "</div>"
      ],
      "text/plain": [
       "   Unnamed: 0           id symbol  current_price    market_cap  total_volume\n",
       "0           0      bitcoin    btc       95531.00  1.897194e+12  1.348921e+10\n",
       "1           1     ethereum    eth        1831.89  2.211723e+11  7.557637e+09\n",
       "2           2       tether   usdt           1.00  1.493621e+11  1.214679e+10\n",
       "3           3       ripple    xrp           2.19  1.281351e+11  1.305868e+09\n",
       "4           4  binancecoin    bnb         593.26  8.654588e+10  4.185569e+08"
      ]
     },
     "execution_count": 41,
     "metadata": {},
     "output_type": "execute_result"
    }
   ],
   "source": [
    "# do it from scratch\n",
    "crypto = pd.read_excel('crypto_data.xlsx')\n",
    "crypto.head()"
   ]
  },
  {
   "cell_type": "code",
   "execution_count": 42,
   "id": "49ce63b6-b6ec-4b9e-85cf-8d07ba172fd1",
   "metadata": {},
   "outputs": [
    {
     "data": {
      "text/html": [
       "<div>\n",
       "<style scoped>\n",
       "    .dataframe tbody tr th:only-of-type {\n",
       "        vertical-align: middle;\n",
       "    }\n",
       "\n",
       "    .dataframe tbody tr th {\n",
       "        vertical-align: top;\n",
       "    }\n",
       "\n",
       "    .dataframe thead th {\n",
       "        text-align: right;\n",
       "    }\n",
       "</style>\n",
       "<table border=\"1\" class=\"dataframe\">\n",
       "  <thead>\n",
       "    <tr style=\"text-align: right;\">\n",
       "      <th></th>\n",
       "      <th>id</th>\n",
       "      <th>symbol</th>\n",
       "      <th>current_price</th>\n",
       "      <th>market_cap</th>\n",
       "      <th>total_volume</th>\n",
       "    </tr>\n",
       "  </thead>\n",
       "  <tbody>\n",
       "    <tr>\n",
       "      <th>0</th>\n",
       "      <td>bitcoin</td>\n",
       "      <td>btc</td>\n",
       "      <td>95531.00</td>\n",
       "      <td>1.897194e+12</td>\n",
       "      <td>1.348921e+10</td>\n",
       "    </tr>\n",
       "    <tr>\n",
       "      <th>1</th>\n",
       "      <td>ethereum</td>\n",
       "      <td>eth</td>\n",
       "      <td>1831.89</td>\n",
       "      <td>2.211723e+11</td>\n",
       "      <td>7.557637e+09</td>\n",
       "    </tr>\n",
       "    <tr>\n",
       "      <th>2</th>\n",
       "      <td>tether</td>\n",
       "      <td>usdt</td>\n",
       "      <td>1.00</td>\n",
       "      <td>1.493621e+11</td>\n",
       "      <td>1.214679e+10</td>\n",
       "    </tr>\n",
       "    <tr>\n",
       "      <th>3</th>\n",
       "      <td>ripple</td>\n",
       "      <td>xrp</td>\n",
       "      <td>2.19</td>\n",
       "      <td>1.281351e+11</td>\n",
       "      <td>1.305868e+09</td>\n",
       "    </tr>\n",
       "    <tr>\n",
       "      <th>4</th>\n",
       "      <td>binancecoin</td>\n",
       "      <td>bnb</td>\n",
       "      <td>593.26</td>\n",
       "      <td>8.654588e+10</td>\n",
       "      <td>4.185569e+08</td>\n",
       "    </tr>\n",
       "  </tbody>\n",
       "</table>\n",
       "</div>"
      ],
      "text/plain": [
       "            id symbol  current_price    market_cap  total_volume\n",
       "0      bitcoin    btc       95531.00  1.897194e+12  1.348921e+10\n",
       "1     ethereum    eth        1831.89  2.211723e+11  7.557637e+09\n",
       "2       tether   usdt           1.00  1.493621e+11  1.214679e+10\n",
       "3       ripple    xrp           2.19  1.281351e+11  1.305868e+09\n",
       "4  binancecoin    bnb         593.26  8.654588e+10  4.185569e+08"
      ]
     },
     "execution_count": 42,
     "metadata": {},
     "output_type": "execute_result"
    }
   ],
   "source": [
    "# drop first column\n",
    "crypto = crypto.drop('Unnamed: 0', axis = 1)\n",
    "crypto.head()"
   ]
  },
  {
   "cell_type": "code",
   "execution_count": 43,
   "id": "0dc2bbe8-94ab-497d-8590-81963782bdbe",
   "metadata": {},
   "outputs": [
    {
     "data": {
      "text/plain": [
       "id               0\n",
       "symbol           2\n",
       "current_price    2\n",
       "market_cap       0\n",
       "total_volume     0\n",
       "dtype: int64"
      ]
     },
     "execution_count": 43,
     "metadata": {},
     "output_type": "execute_result"
    }
   ],
   "source": [
    "#check null values\n",
    "crypto.isnull().sum()"
   ]
  },
  {
   "cell_type": "code",
   "execution_count": 44,
   "id": "a64ba921-44f8-4a6e-9744-287031437d58",
   "metadata": {},
   "outputs": [
    {
     "data": {
      "text/html": [
       "<div>\n",
       "<style scoped>\n",
       "    .dataframe tbody tr th:only-of-type {\n",
       "        vertical-align: middle;\n",
       "    }\n",
       "\n",
       "    .dataframe tbody tr th {\n",
       "        vertical-align: top;\n",
       "    }\n",
       "\n",
       "    .dataframe thead th {\n",
       "        text-align: right;\n",
       "    }\n",
       "</style>\n",
       "<table border=\"1\" class=\"dataframe\">\n",
       "  <thead>\n",
       "    <tr style=\"text-align: right;\">\n",
       "      <th></th>\n",
       "      <th>id</th>\n",
       "      <th>symbol</th>\n",
       "      <th>current_price</th>\n",
       "      <th>market_cap</th>\n",
       "      <th>total_volume</th>\n",
       "    </tr>\n",
       "  </thead>\n",
       "  <tbody>\n",
       "    <tr>\n",
       "      <th>0</th>\n",
       "      <td>bitcoin</td>\n",
       "      <td>btc</td>\n",
       "      <td>95531.00</td>\n",
       "      <td>1.897194e+12</td>\n",
       "      <td>1.348921e+10</td>\n",
       "    </tr>\n",
       "    <tr>\n",
       "      <th>1</th>\n",
       "      <td>ethereum</td>\n",
       "      <td>eth</td>\n",
       "      <td>1831.89</td>\n",
       "      <td>2.211723e+11</td>\n",
       "      <td>7.557637e+09</td>\n",
       "    </tr>\n",
       "    <tr>\n",
       "      <th>2</th>\n",
       "      <td>tether</td>\n",
       "      <td>usdt</td>\n",
       "      <td>1.00</td>\n",
       "      <td>1.493621e+11</td>\n",
       "      <td>1.214679e+10</td>\n",
       "    </tr>\n",
       "    <tr>\n",
       "      <th>3</th>\n",
       "      <td>ripple</td>\n",
       "      <td>xrp</td>\n",
       "      <td>2.19</td>\n",
       "      <td>1.281351e+11</td>\n",
       "      <td>1.305868e+09</td>\n",
       "    </tr>\n",
       "    <tr>\n",
       "      <th>4</th>\n",
       "      <td>binancecoin</td>\n",
       "      <td>bnb</td>\n",
       "      <td>593.26</td>\n",
       "      <td>8.654588e+10</td>\n",
       "      <td>4.185569e+08</td>\n",
       "    </tr>\n",
       "  </tbody>\n",
       "</table>\n",
       "</div>"
      ],
      "text/plain": [
       "            id symbol  current_price    market_cap  total_volume\n",
       "0      bitcoin    btc       95531.00  1.897194e+12  1.348921e+10\n",
       "1     ethereum    eth        1831.89  2.211723e+11  7.557637e+09\n",
       "2       tether   usdt           1.00  1.493621e+11  1.214679e+10\n",
       "3       ripple    xrp           2.19  1.281351e+11  1.305868e+09\n",
       "4  binancecoin    bnb         593.26  8.654588e+10  4.185569e+08"
      ]
     },
     "execution_count": 44,
     "metadata": {},
     "output_type": "execute_result"
    }
   ],
   "source": [
    "# remove null values\n",
    "crypto = crypto.dropna()\n",
    "crypto.head()"
   ]
  },
  {
   "cell_type": "code",
   "execution_count": 45,
   "id": "e99f9635-1b2c-4abc-8c95-322968d44b4d",
   "metadata": {},
   "outputs": [
    {
     "data": {
      "text/plain": [
       "id               0\n",
       "symbol           0\n",
       "current_price    0\n",
       "market_cap       0\n",
       "total_volume     0\n",
       "dtype: int64"
      ]
     },
     "execution_count": 45,
     "metadata": {},
     "output_type": "execute_result"
    }
   ],
   "source": [
    "crypto.isnull().sum()"
   ]
  },
  {
   "cell_type": "code",
   "execution_count": 47,
   "id": "6bd2e296-43ad-497d-bc85-048a7280ebf8",
   "metadata": {},
   "outputs": [
    {
     "data": {
      "text/html": [
       "<div>\n",
       "<style scoped>\n",
       "    .dataframe tbody tr th:only-of-type {\n",
       "        vertical-align: middle;\n",
       "    }\n",
       "\n",
       "    .dataframe tbody tr th {\n",
       "        vertical-align: top;\n",
       "    }\n",
       "\n",
       "    .dataframe thead th {\n",
       "        text-align: right;\n",
       "    }\n",
       "</style>\n",
       "<table border=\"1\" class=\"dataframe\">\n",
       "  <thead>\n",
       "    <tr style=\"text-align: right;\">\n",
       "      <th></th>\n",
       "      <th>id</th>\n",
       "      <th>symbol</th>\n",
       "      <th>current_price</th>\n",
       "      <th>market_cap</th>\n",
       "      <th>total_volume</th>\n",
       "    </tr>\n",
       "  </thead>\n",
       "  <tbody>\n",
       "    <tr>\n",
       "      <th>0</th>\n",
       "      <td>bitcoin</td>\n",
       "      <td>btc</td>\n",
       "      <td>95531.00</td>\n",
       "      <td>1.897194e+12</td>\n",
       "      <td>1.348921e+10</td>\n",
       "    </tr>\n",
       "    <tr>\n",
       "      <th>1</th>\n",
       "      <td>ethereum</td>\n",
       "      <td>eth</td>\n",
       "      <td>1831.89</td>\n",
       "      <td>2.211723e+11</td>\n",
       "      <td>7.557637e+09</td>\n",
       "    </tr>\n",
       "    <tr>\n",
       "      <th>2</th>\n",
       "      <td>tether</td>\n",
       "      <td>usdt</td>\n",
       "      <td>1.00</td>\n",
       "      <td>1.493621e+11</td>\n",
       "      <td>1.214679e+10</td>\n",
       "    </tr>\n",
       "    <tr>\n",
       "      <th>3</th>\n",
       "      <td>ripple</td>\n",
       "      <td>xrp</td>\n",
       "      <td>2.19</td>\n",
       "      <td>1.281351e+11</td>\n",
       "      <td>1.305868e+09</td>\n",
       "    </tr>\n",
       "    <tr>\n",
       "      <th>4</th>\n",
       "      <td>binancecoin</td>\n",
       "      <td>bnb</td>\n",
       "      <td>593.26</td>\n",
       "      <td>8.654588e+10</td>\n",
       "      <td>4.185569e+08</td>\n",
       "    </tr>\n",
       "  </tbody>\n",
       "</table>\n",
       "</div>"
      ],
      "text/plain": [
       "            id symbol  current_price    market_cap  total_volume\n",
       "0      bitcoin    btc       95531.00  1.897194e+12  1.348921e+10\n",
       "1     ethereum    eth        1831.89  2.211723e+11  7.557637e+09\n",
       "2       tether   usdt           1.00  1.493621e+11  1.214679e+10\n",
       "3       ripple    xrp           2.19  1.281351e+11  1.305868e+09\n",
       "4  binancecoin    bnb         593.26  8.654588e+10  4.185569e+08"
      ]
     },
     "execution_count": 47,
     "metadata": {},
     "output_type": "execute_result"
    }
   ],
   "source": [
    "crypto.head()"
   ]
  },
  {
   "cell_type": "code",
   "execution_count": 48,
   "id": "9b0bec5e-dc92-4250-a114-7c7c2f3f0e50",
   "metadata": {},
   "outputs": [],
   "source": [
    "# change two column names\n",
    "crypto = crypto.rename(columns = {'id':'name'})"
   ]
  },
  {
   "cell_type": "code",
   "execution_count": 49,
   "id": "95819d6f-92f6-4afc-8fe7-87c6b4630ec9",
   "metadata": {},
   "outputs": [
    {
     "data": {
      "text/html": [
       "<div>\n",
       "<style scoped>\n",
       "    .dataframe tbody tr th:only-of-type {\n",
       "        vertical-align: middle;\n",
       "    }\n",
       "\n",
       "    .dataframe tbody tr th {\n",
       "        vertical-align: top;\n",
       "    }\n",
       "\n",
       "    .dataframe thead th {\n",
       "        text-align: right;\n",
       "    }\n",
       "</style>\n",
       "<table border=\"1\" class=\"dataframe\">\n",
       "  <thead>\n",
       "    <tr style=\"text-align: right;\">\n",
       "      <th></th>\n",
       "      <th>name</th>\n",
       "      <th>symbol</th>\n",
       "      <th>current_price</th>\n",
       "      <th>market_cap</th>\n",
       "      <th>total_volume</th>\n",
       "    </tr>\n",
       "  </thead>\n",
       "  <tbody>\n",
       "    <tr>\n",
       "      <th>0</th>\n",
       "      <td>bitcoin</td>\n",
       "      <td>btc</td>\n",
       "      <td>95531.00</td>\n",
       "      <td>1.897194e+12</td>\n",
       "      <td>1.348921e+10</td>\n",
       "    </tr>\n",
       "    <tr>\n",
       "      <th>1</th>\n",
       "      <td>ethereum</td>\n",
       "      <td>eth</td>\n",
       "      <td>1831.89</td>\n",
       "      <td>2.211723e+11</td>\n",
       "      <td>7.557637e+09</td>\n",
       "    </tr>\n",
       "    <tr>\n",
       "      <th>2</th>\n",
       "      <td>tether</td>\n",
       "      <td>usdt</td>\n",
       "      <td>1.00</td>\n",
       "      <td>1.493621e+11</td>\n",
       "      <td>1.214679e+10</td>\n",
       "    </tr>\n",
       "    <tr>\n",
       "      <th>3</th>\n",
       "      <td>ripple</td>\n",
       "      <td>xrp</td>\n",
       "      <td>2.19</td>\n",
       "      <td>1.281351e+11</td>\n",
       "      <td>1.305868e+09</td>\n",
       "    </tr>\n",
       "    <tr>\n",
       "      <th>4</th>\n",
       "      <td>binancecoin</td>\n",
       "      <td>bnb</td>\n",
       "      <td>593.26</td>\n",
       "      <td>8.654588e+10</td>\n",
       "      <td>4.185569e+08</td>\n",
       "    </tr>\n",
       "  </tbody>\n",
       "</table>\n",
       "</div>"
      ],
      "text/plain": [
       "          name symbol  current_price    market_cap  total_volume\n",
       "0      bitcoin    btc       95531.00  1.897194e+12  1.348921e+10\n",
       "1     ethereum    eth        1831.89  2.211723e+11  7.557637e+09\n",
       "2       tether   usdt           1.00  1.493621e+11  1.214679e+10\n",
       "3       ripple    xrp           2.19  1.281351e+11  1.305868e+09\n",
       "4  binancecoin    bnb         593.26  8.654588e+10  4.185569e+08"
      ]
     },
     "execution_count": 49,
     "metadata": {},
     "output_type": "execute_result"
    }
   ],
   "source": [
    "crypto.head()"
   ]
  },
  {
   "cell_type": "code",
   "execution_count": 50,
   "id": "931c7295-1cb7-4a06-84f4-0ad5a41fdece",
   "metadata": {},
   "outputs": [],
   "source": [
    "# save a csv\n",
    "crypto.to_csv('crypto.csv')"
   ]
  },
  {
   "cell_type": "code",
   "execution_count": 51,
   "id": "d507367b-79b1-4113-b2e4-674b04afbb10",
   "metadata": {},
   "outputs": [
    {
     "data": {
      "text/html": [
       "<div>\n",
       "<style scoped>\n",
       "    .dataframe tbody tr th:only-of-type {\n",
       "        vertical-align: middle;\n",
       "    }\n",
       "\n",
       "    .dataframe tbody tr th {\n",
       "        vertical-align: top;\n",
       "    }\n",
       "\n",
       "    .dataframe thead th {\n",
       "        text-align: right;\n",
       "    }\n",
       "</style>\n",
       "<table border=\"1\" class=\"dataframe\">\n",
       "  <thead>\n",
       "    <tr style=\"text-align: right;\">\n",
       "      <th></th>\n",
       "      <th>Unnamed: 0</th>\n",
       "      <th>name</th>\n",
       "      <th>symbol</th>\n",
       "      <th>current_price</th>\n",
       "      <th>market_cap</th>\n",
       "      <th>total_volume</th>\n",
       "    </tr>\n",
       "  </thead>\n",
       "  <tbody>\n",
       "    <tr>\n",
       "      <th>0</th>\n",
       "      <td>0</td>\n",
       "      <td>bitcoin</td>\n",
       "      <td>btc</td>\n",
       "      <td>95531.00</td>\n",
       "      <td>1.897194e+12</td>\n",
       "      <td>1.348921e+10</td>\n",
       "    </tr>\n",
       "    <tr>\n",
       "      <th>1</th>\n",
       "      <td>1</td>\n",
       "      <td>ethereum</td>\n",
       "      <td>eth</td>\n",
       "      <td>1831.89</td>\n",
       "      <td>2.211723e+11</td>\n",
       "      <td>7.557637e+09</td>\n",
       "    </tr>\n",
       "    <tr>\n",
       "      <th>2</th>\n",
       "      <td>2</td>\n",
       "      <td>tether</td>\n",
       "      <td>usdt</td>\n",
       "      <td>1.00</td>\n",
       "      <td>1.493621e+11</td>\n",
       "      <td>1.214679e+10</td>\n",
       "    </tr>\n",
       "    <tr>\n",
       "      <th>3</th>\n",
       "      <td>3</td>\n",
       "      <td>ripple</td>\n",
       "      <td>xrp</td>\n",
       "      <td>2.19</td>\n",
       "      <td>1.281351e+11</td>\n",
       "      <td>1.305868e+09</td>\n",
       "    </tr>\n",
       "    <tr>\n",
       "      <th>4</th>\n",
       "      <td>4</td>\n",
       "      <td>binancecoin</td>\n",
       "      <td>bnb</td>\n",
       "      <td>593.26</td>\n",
       "      <td>8.654588e+10</td>\n",
       "      <td>4.185569e+08</td>\n",
       "    </tr>\n",
       "  </tbody>\n",
       "</table>\n",
       "</div>"
      ],
      "text/plain": [
       "   Unnamed: 0         name symbol  current_price    market_cap  total_volume\n",
       "0           0      bitcoin    btc       95531.00  1.897194e+12  1.348921e+10\n",
       "1           1     ethereum    eth        1831.89  2.211723e+11  7.557637e+09\n",
       "2           2       tether   usdt           1.00  1.493621e+11  1.214679e+10\n",
       "3           3       ripple    xrp           2.19  1.281351e+11  1.305868e+09\n",
       "4           4  binancecoin    bnb         593.26  8.654588e+10  4.185569e+08"
      ]
     },
     "execution_count": 51,
     "metadata": {},
     "output_type": "execute_result"
    }
   ],
   "source": [
    "cr = pd.read_csv('crypto.csv')\n",
    "cr.head()"
   ]
  },
  {
   "cell_type": "code",
   "execution_count": 52,
   "id": "3dbce0d7-0576-44fb-8f4b-65d0b359fbe9",
   "metadata": {},
   "outputs": [],
   "source": [
    "# change two column names\n",
    "cr = cr.rename(columns = {'Unnamed: 0':'id'})"
   ]
  },
  {
   "cell_type": "code",
   "execution_count": 53,
   "id": "7f87e117-62e2-4513-b6bd-c34a08574db7",
   "metadata": {},
   "outputs": [
    {
     "data": {
      "text/html": [
       "<div>\n",
       "<style scoped>\n",
       "    .dataframe tbody tr th:only-of-type {\n",
       "        vertical-align: middle;\n",
       "    }\n",
       "\n",
       "    .dataframe tbody tr th {\n",
       "        vertical-align: top;\n",
       "    }\n",
       "\n",
       "    .dataframe thead th {\n",
       "        text-align: right;\n",
       "    }\n",
       "</style>\n",
       "<table border=\"1\" class=\"dataframe\">\n",
       "  <thead>\n",
       "    <tr style=\"text-align: right;\">\n",
       "      <th></th>\n",
       "      <th>id</th>\n",
       "      <th>name</th>\n",
       "      <th>symbol</th>\n",
       "      <th>current_price</th>\n",
       "      <th>market_cap</th>\n",
       "      <th>total_volume</th>\n",
       "    </tr>\n",
       "  </thead>\n",
       "  <tbody>\n",
       "    <tr>\n",
       "      <th>0</th>\n",
       "      <td>0</td>\n",
       "      <td>bitcoin</td>\n",
       "      <td>btc</td>\n",
       "      <td>95531.00</td>\n",
       "      <td>1.897194e+12</td>\n",
       "      <td>1.348921e+10</td>\n",
       "    </tr>\n",
       "    <tr>\n",
       "      <th>1</th>\n",
       "      <td>1</td>\n",
       "      <td>ethereum</td>\n",
       "      <td>eth</td>\n",
       "      <td>1831.89</td>\n",
       "      <td>2.211723e+11</td>\n",
       "      <td>7.557637e+09</td>\n",
       "    </tr>\n",
       "    <tr>\n",
       "      <th>2</th>\n",
       "      <td>2</td>\n",
       "      <td>tether</td>\n",
       "      <td>usdt</td>\n",
       "      <td>1.00</td>\n",
       "      <td>1.493621e+11</td>\n",
       "      <td>1.214679e+10</td>\n",
       "    </tr>\n",
       "    <tr>\n",
       "      <th>3</th>\n",
       "      <td>3</td>\n",
       "      <td>ripple</td>\n",
       "      <td>xrp</td>\n",
       "      <td>2.19</td>\n",
       "      <td>1.281351e+11</td>\n",
       "      <td>1.305868e+09</td>\n",
       "    </tr>\n",
       "    <tr>\n",
       "      <th>4</th>\n",
       "      <td>4</td>\n",
       "      <td>binancecoin</td>\n",
       "      <td>bnb</td>\n",
       "      <td>593.26</td>\n",
       "      <td>8.654588e+10</td>\n",
       "      <td>4.185569e+08</td>\n",
       "    </tr>\n",
       "  </tbody>\n",
       "</table>\n",
       "</div>"
      ],
      "text/plain": [
       "   id         name symbol  current_price    market_cap  total_volume\n",
       "0   0      bitcoin    btc       95531.00  1.897194e+12  1.348921e+10\n",
       "1   1     ethereum    eth        1831.89  2.211723e+11  7.557637e+09\n",
       "2   2       tether   usdt           1.00  1.493621e+11  1.214679e+10\n",
       "3   3       ripple    xrp           2.19  1.281351e+11  1.305868e+09\n",
       "4   4  binancecoin    bnb         593.26  8.654588e+10  4.185569e+08"
      ]
     },
     "execution_count": 53,
     "metadata": {},
     "output_type": "execute_result"
    }
   ],
   "source": [
    "cr.head()"
   ]
  },
  {
   "cell_type": "code",
   "execution_count": 54,
   "id": "85037115-4005-4ac9-bad8-039a214af511",
   "metadata": {},
   "outputs": [
    {
     "data": {
      "text/plain": [
       "id               0\n",
       "name             0\n",
       "symbol           0\n",
       "current_price    0\n",
       "market_cap       0\n",
       "total_volume     0\n",
       "dtype: int64"
      ]
     },
     "execution_count": 54,
     "metadata": {},
     "output_type": "execute_result"
    }
   ],
   "source": [
    "cr.isnull().sum()"
   ]
  },
  {
   "cell_type": "code",
   "execution_count": 55,
   "id": "6d4d81a1-2612-4b1c-baf9-632184c62967",
   "metadata": {},
   "outputs": [],
   "source": [
    "cr.to_csv('crypto.csv')"
   ]
  },
  {
   "cell_type": "code",
   "execution_count": null,
   "id": "30fd6b58-ef14-4c01-af9a-caddcae53873",
   "metadata": {},
   "outputs": [],
   "source": []
  }
 ],
 "metadata": {
  "kernelspec": {
   "display_name": "Python 3 (ipykernel)",
   "language": "python",
   "name": "python3"
  },
  "language_info": {
   "codemirror_mode": {
    "name": "ipython",
    "version": 3
   },
   "file_extension": ".py",
   "mimetype": "text/x-python",
   "name": "python",
   "nbconvert_exporter": "python",
   "pygments_lexer": "ipython3",
   "version": "3.11.7"
  }
 },
 "nbformat": 4,
 "nbformat_minor": 5
}
