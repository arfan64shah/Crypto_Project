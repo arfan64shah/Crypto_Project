{
 "cells": [
  {
   "cell_type": "code",
   "execution_count": 1,
   "id": "b6afb6fa-d88f-40a3-b9a7-4c79ab072bc6",
   "metadata": {},
   "outputs": [],
   "source": [
    "# import required libraries\n",
    "import requests as rq\n",
    "import pandas as pd\n",
    "import numpy as np\n",
    "import time\n",
    "from sklearn.model_selection import train_test_split\n",
    "from category_encoders import TargetEncoder"
   ]
  },
  {
   "cell_type": "code",
   "execution_count": 7,
   "id": "61ac70da-5de5-4169-9158-099492a1fb8a",
   "metadata": {},
   "outputs": [
    {
     "data": {
      "text/plain": [
       "0"
      ]
     },
     "execution_count": 7,
     "metadata": {},
     "output_type": "execute_result"
    }
   ],
   "source": [
    "import sys\n",
    "import subprocess\n",
    "#sys.executable\n",
    "subprocess.check_call([sys.executable, \"-m\", \"pip\", \"install\", \"category_encoders\"])"
   ]
  },
  {
   "cell_type": "code",
   "execution_count": 11,
   "id": "e051b673-435f-4c69-a0a9-52da3b4d7715",
   "metadata": {},
   "outputs": [
    {
     "data": {
      "text/plain": [
       "0"
      ]
     },
     "execution_count": 11,
     "metadata": {},
     "output_type": "execute_result"
    }
   ],
   "source": [
    "subprocess.check_call([sys.executable, \"-m\", \"pip\", \"install\", \"--upgrade\", \"category_encoders\", \"scikit-learn\"])"
   ]
  },
  {
   "cell_type": "code",
   "execution_count": 8,
   "id": "367feac6-2d3b-432a-b058-86685981c243",
   "metadata": {},
   "outputs": [
    {
     "name": "stdout",
     "output_type": "stream",
     "text": [
      "Name: category_encoders\n",
      "Version: 2.8.1\n",
      "Summary: A package for encoding categorical variables for machine learning\n",
      "Home-page: \n",
      "Author: PaulWestenthanner\n",
      "Author-email: paul@westenthanner.dev\n",
      "License: BSD-3\n",
      "Location: C:\\Users\\Arfan Shah\\AppData\\Local\\Programs\\Python\\Python311\\Lib\\site-packages\n",
      "Requires: numpy, pandas, patsy, scikit-learn, scipy, statsmodels\n",
      "Required-by: \n",
      "Note: you may need to restart the kernel to use updated packages.\n"
     ]
    }
   ],
   "source": [
    "pip show category_encoders"
   ]
  },
  {
   "cell_type": "code",
   "execution_count": 2,
   "id": "89894398-23ae-49a9-96f7-8a9ab6941844",
   "metadata": {},
   "outputs": [
    {
     "name": "stdout",
     "output_type": "stream",
     "text": [
      "Rate limit hit on page 6. waiting 60 seconds before retrying...\n",
      "Rate limit hit on page 9. waiting 60 seconds before retrying...\n",
      "Rate limit hit on page 14. waiting 60 seconds before retrying...\n",
      "Rate limit hit on page 19. waiting 60 seconds before retrying...\n",
      "Rate limit hit on page 25. waiting 60 seconds before retrying...\n",
      "Rate limit hit on page 32. waiting 60 seconds before retrying...\n",
      "Rate limit hit on page 37. waiting 60 seconds before retrying...\n",
      "Rate limit hit on page 41. waiting 60 seconds before retrying...\n",
      "Rate limit hit on page 46. waiting 60 seconds before retrying...\n",
      "               id      symbol  current_price    market_cap  total_volume\n",
      "0         bitcoin         btc   95531.000000  1.897194e+12  1.348921e+10\n",
      "1        ethereum         eth    1831.890000  2.211723e+11  7.557637e+09\n",
      "2          tether        usdt       1.000000  1.493621e+11  1.214679e+10\n",
      "3          ripple         xrp       2.190000  1.281351e+11  1.305868e+09\n",
      "4     binancecoin         bnb     593.260000  8.654588e+10  4.185569e+08\n",
      "...           ...         ...            ...           ...           ...\n",
      "9995  crazy-tiger  crazytiger       0.000000  0.000000e+00  7.360000e+00\n",
      "9996        aurix         aur       0.694704  0.000000e+00  8.791300e+04\n",
      "9997        lower       lower       0.000020  0.000000e+00  5.387800e+02\n",
      "9998         pola        pola       0.000064  0.000000e+00  1.770000e+00\n",
      "9999  aave-v3-uni        auni       5.090000  0.000000e+00  0.000000e+00\n",
      "\n",
      "[10000 rows x 5 columns]\n",
      "Dataset dimensions:  (10000, 5)\n"
     ]
    }
   ],
   "source": [
    "# url of API\n",
    "url = 'https://api.coingecko.com/api/v3/coins/markets'\n",
    "\n",
    "# create an empty list to store data in loop\n",
    "all_data = []\n",
    "\n",
    "# iterate over a loop and get more data\n",
    "for page in range(1, 50):\n",
    "\n",
    "    # define parameters\n",
    "    params = {\n",
    "        'vs_currency': 'usd',\n",
    "        'order': 'market_cap_desc',\n",
    "        'per_page': 250,\n",
    "        'page': page,\n",
    "        'sparkline': False\n",
    "    }\n",
    "\n",
    "    # make a connection to API\n",
    "    api_response = rq.get(url, params = params)\n",
    "\n",
    "    # check the response\n",
    "    if api_response.status_code == 200:\n",
    "        # get data in json format\n",
    "        data = api_response.json()\n",
    "\n",
    "        # check if data is not present just break\n",
    "        if not data:\n",
    "            print(f\"Data not found in {page}\")\n",
    "            break\n",
    "        # data addition to list\n",
    "        all_data.extend(data)\n",
    "        time.sleep(1.5)\n",
    "    elif api_response.status_code == 429:\n",
    "        print(f\"Rate limit hit on page {page}. waiting 60 seconds before retrying...\")\n",
    "        time.sleep(60)\n",
    "        continue\n",
    "    else:\n",
    "        print(f\"Failed to fetch page {page}: {api_response.status_code}\")\n",
    "        break\n",
    "\n",
    "# pandas dataframe\n",
    "dataset = pd.DataFrame(all_data)\n",
    "\n",
    "# extract the needy data\n",
    "dataset = dataset[['id', 'symbol', 'current_price', 'market_cap', 'total_volume']]\n",
    "\n",
    "print(dataset)\n",
    "# shape\n",
    "print(\"Dataset dimensions: \", dataset.shape)"
   ]
  },
  {
   "cell_type": "code",
   "execution_count": 3,
   "id": "fd6b0a08-83e5-4412-a1fc-b8157e012929",
   "metadata": {},
   "outputs": [
    {
     "data": {
      "text/html": [
       "<div>\n",
       "<style scoped>\n",
       "    .dataframe tbody tr th:only-of-type {\n",
       "        vertical-align: middle;\n",
       "    }\n",
       "\n",
       "    .dataframe tbody tr th {\n",
       "        vertical-align: top;\n",
       "    }\n",
       "\n",
       "    .dataframe thead th {\n",
       "        text-align: right;\n",
       "    }\n",
       "</style>\n",
       "<table border=\"1\" class=\"dataframe\">\n",
       "  <thead>\n",
       "    <tr style=\"text-align: right;\">\n",
       "      <th></th>\n",
       "      <th>id</th>\n",
       "      <th>symbol</th>\n",
       "      <th>current_price</th>\n",
       "      <th>market_cap</th>\n",
       "      <th>total_volume</th>\n",
       "    </tr>\n",
       "  </thead>\n",
       "  <tbody>\n",
       "    <tr>\n",
       "      <th>0</th>\n",
       "      <td>bitcoin</td>\n",
       "      <td>btc</td>\n",
       "      <td>95498.00</td>\n",
       "      <td>1.896525e+12</td>\n",
       "      <td>1.364887e+10</td>\n",
       "    </tr>\n",
       "    <tr>\n",
       "      <th>1</th>\n",
       "      <td>ethereum</td>\n",
       "      <td>eth</td>\n",
       "      <td>1832.45</td>\n",
       "      <td>2.212325e+11</td>\n",
       "      <td>7.458328e+09</td>\n",
       "    </tr>\n",
       "    <tr>\n",
       "      <th>2</th>\n",
       "      <td>tether</td>\n",
       "      <td>usdt</td>\n",
       "      <td>1.00</td>\n",
       "      <td>1.493566e+11</td>\n",
       "      <td>1.373999e+10</td>\n",
       "    </tr>\n",
       "    <tr>\n",
       "      <th>3</th>\n",
       "      <td>ripple</td>\n",
       "      <td>xrp</td>\n",
       "      <td>2.19</td>\n",
       "      <td>1.281218e+11</td>\n",
       "      <td>1.146658e+09</td>\n",
       "    </tr>\n",
       "    <tr>\n",
       "      <th>4</th>\n",
       "      <td>binancecoin</td>\n",
       "      <td>bnb</td>\n",
       "      <td>595.19</td>\n",
       "      <td>8.682996e+10</td>\n",
       "      <td>3.779550e+08</td>\n",
       "    </tr>\n",
       "  </tbody>\n",
       "</table>\n",
       "</div>"
      ],
      "text/plain": [
       "            id symbol  current_price    market_cap  total_volume\n",
       "0      bitcoin    btc       95498.00  1.896525e+12  1.364887e+10\n",
       "1     ethereum    eth        1832.45  2.212325e+11  7.458328e+09\n",
       "2       tether   usdt           1.00  1.493566e+11  1.373999e+10\n",
       "3       ripple    xrp           2.19  1.281218e+11  1.146658e+09\n",
       "4  binancecoin    bnb         595.19  8.682996e+10  3.779550e+08"
      ]
     },
     "execution_count": 3,
     "metadata": {},
     "output_type": "execute_result"
    }
   ],
   "source": [
    "# display few rows\n",
    "dataset.head()"
   ]
  },
  {
   "cell_type": "code",
   "execution_count": 4,
   "id": "0e6ab936-f1b9-4360-91fb-9b46263ae0a3",
   "metadata": {},
   "outputs": [
    {
     "data": {
      "text/plain": [
       "(10250, 5)"
      ]
     },
     "execution_count": 4,
     "metadata": {},
     "output_type": "execute_result"
    }
   ],
   "source": [
    "# find shape of final_dataset\n",
    "dataset.shape"
   ]
  },
  {
   "cell_type": "code",
   "execution_count": 5,
   "id": "d70d3d49-e4af-4744-a168-c60e623367b8",
   "metadata": {},
   "outputs": [
    {
     "data": {
      "text/plain": [
       "id               0\n",
       "symbol           0\n",
       "current_price    2\n",
       "market_cap       0\n",
       "total_volume     0\n",
       "dtype: int64"
      ]
     },
     "execution_count": 5,
     "metadata": {},
     "output_type": "execute_result"
    }
   ],
   "source": [
    "# find any null values\n",
    "dataset.isnull().sum()"
   ]
  },
  {
   "cell_type": "code",
   "execution_count": 6,
   "id": "aa916519-2b51-49a7-88c1-fc15a15efaee",
   "metadata": {},
   "outputs": [
    {
     "data": {
      "text/plain": [
       "pandas.core.frame.DataFrame"
      ]
     },
     "execution_count": 6,
     "metadata": {},
     "output_type": "execute_result"
    }
   ],
   "source": [
    "# find type of dataset\n",
    "type(dataset)"
   ]
  },
  {
   "cell_type": "code",
   "execution_count": 7,
   "id": "99ed224f-885e-4054-b9e2-d9704c08538c",
   "metadata": {},
   "outputs": [],
   "source": [
    "# we have just two null values, so i need to remove those columns as they are very few\n",
    "dataset = dataset[dataset['current_price'].notna()]"
   ]
  },
  {
   "cell_type": "code",
   "execution_count": 8,
   "id": "842c5c9a-8f40-4427-a9fe-b2182cb24ab6",
   "metadata": {},
   "outputs": [
    {
     "data": {
      "text/plain": [
       "id               0\n",
       "symbol           0\n",
       "current_price    0\n",
       "market_cap       0\n",
       "total_volume     0\n",
       "dtype: int64"
      ]
     },
     "execution_count": 8,
     "metadata": {},
     "output_type": "execute_result"
    }
   ],
   "source": [
    "# now check the null values\n",
    "dataset.isnull().sum()"
   ]
  },
  {
   "cell_type": "code",
   "execution_count": 9,
   "id": "50376ce4-bbbb-40c8-b815-306a2601bdb7",
   "metadata": {},
   "outputs": [
    {
     "data": {
      "text/plain": [
       "(10248, 5)"
      ]
     },
     "execution_count": 9,
     "metadata": {},
     "output_type": "execute_result"
    }
   ],
   "source": [
    "# now find dataset's shape\n",
    "dataset.shape"
   ]
  },
  {
   "cell_type": "code",
   "execution_count": 10,
   "id": "9c1daa35-da7b-4694-b6e7-d53efcf67e00",
   "metadata": {},
   "outputs": [
    {
     "data": {
      "text/plain": [
       "id                object\n",
       "symbol            object\n",
       "current_price    float64\n",
       "market_cap       float64\n",
       "total_volume     float64\n",
       "dtype: object"
      ]
     },
     "execution_count": 10,
     "metadata": {},
     "output_type": "execute_result"
    }
   ],
   "source": [
    "# check data types in dataset\n",
    "dataset.dtypes"
   ]
  },
  {
   "cell_type": "code",
   "execution_count": 11,
   "id": "b8b0dd18-6bca-41aa-a09a-88ac5144be54",
   "metadata": {},
   "outputs": [
    {
     "data": {
      "text/plain": [
       "9817"
      ]
     },
     "execution_count": 11,
     "metadata": {},
     "output_type": "execute_result"
    }
   ],
   "source": [
    "# we have two objects lets find unique values in each column\n",
    "dataset.id.nunique()"
   ]
  },
  {
   "cell_type": "code",
   "execution_count": 12,
   "id": "aca5985e-3a4b-44e8-b275-37d235529252",
   "metadata": {},
   "outputs": [
    {
     "data": {
      "text/plain": [
       "8090"
      ]
     },
     "execution_count": 12,
     "metadata": {},
     "output_type": "execute_result"
    }
   ],
   "source": [
    "# check unique values in second column\n",
    "dataset.symbol.nunique()"
   ]
  },
  {
   "cell_type": "code",
   "execution_count": 13,
   "id": "f3b1cc6d-703c-41e0-a331-3a93a9fc3053",
   "metadata": {},
   "outputs": [
    {
     "data": {
      "text/plain": [
       "Index(['id', 'symbol', 'current_price', 'market_cap', 'total_volume'], dtype='object')"
      ]
     },
     "execution_count": 13,
     "metadata": {},
     "output_type": "execute_result"
    }
   ],
   "source": [
    "# columns\n",
    "dataset.columns"
   ]
  },
  {
   "cell_type": "code",
   "execution_count": 19,
   "id": "2b2d3194-4d2d-47e6-bc63-4cbd56aafcde",
   "metadata": {},
   "outputs": [
    {
     "data": {
      "text/plain": [
       "0    1.364887e+10\n",
       "1    7.458328e+09\n",
       "2    1.373999e+10\n",
       "3    1.146658e+09\n",
       "4    3.779550e+08\n",
       "Name: total_volume, dtype: float64"
      ]
     },
     "execution_count": 19,
     "metadata": {},
     "output_type": "execute_result"
    }
   ],
   "source": [
    "# apply encoding to deal with the high number of categories in id and symbol\n",
    "# Define features and target (e.g., predicting current_price)\n",
    "x = dataset[['id', 'symbol', 'market_cap', 'current_price']]\n",
    "y = dataset['total_volume']\n",
    "\n",
    "y.head()"
   ]
  },
  {
   "cell_type": "code",
   "execution_count": 22,
   "id": "75b23fc4-9210-4751-9637-58246ce9fdba",
   "metadata": {},
   "outputs": [
    {
     "ename": "NameError",
     "evalue": "name 'TargetEncoder' is not defined",
     "output_type": "error",
     "traceback": [
      "\u001b[1;31m---------------------------------------------------------------------------\u001b[0m",
      "\u001b[1;31mNameError\u001b[0m                                 Traceback (most recent call last)",
      "Cell \u001b[1;32mIn[22], line 5\u001b[0m\n\u001b[0;32m      2\u001b[0m x_train, x_test, y_train, y_test \u001b[38;5;241m=\u001b[39m train_test_split(x, y, test_size\u001b[38;5;241m=\u001b[39m\u001b[38;5;241m0.2\u001b[39m, random_state\u001b[38;5;241m=\u001b[39m\u001b[38;5;241m42\u001b[39m)\n\u001b[0;32m      4\u001b[0m \u001b[38;5;66;03m# Apply target encoding\u001b[39;00m\n\u001b[1;32m----> 5\u001b[0m encoder \u001b[38;5;241m=\u001b[39m \u001b[43mTargetEncoder\u001b[49m(cols\u001b[38;5;241m=\u001b[39m[\u001b[38;5;124m'\u001b[39m\u001b[38;5;124mid\u001b[39m\u001b[38;5;124m'\u001b[39m, \u001b[38;5;124m'\u001b[39m\u001b[38;5;124msymbol\u001b[39m\u001b[38;5;124m'\u001b[39m])\n\u001b[0;32m      6\u001b[0m x_train_encoded \u001b[38;5;241m=\u001b[39m encoder\u001b[38;5;241m.\u001b[39mfit_transform(x_train, y_train)\n\u001b[0;32m      7\u001b[0m x_test_encoded \u001b[38;5;241m=\u001b[39m encoder\u001b[38;5;241m.\u001b[39mtransform(x_test)\n",
      "\u001b[1;31mNameError\u001b[0m: name 'TargetEncoder' is not defined"
     ]
    }
   ],
   "source": [
    "# Split data to avoid leakage\n",
    "x_train, x_test, y_train, y_test = train_test_split(x, y, test_size=0.2, random_state=42)\n",
    "\n",
    "# Apply target encoding\n",
    "encoder = TargetEncoder(cols=['id', 'symbol'])\n",
    "x_train_encoded = encoder.fit_transform(x_train, y_train)\n",
    "x_test_encoded = encoder.transform(x_test)\n",
    "x_train_encoded.head()"
   ]
  },
  {
   "cell_type": "code",
   "execution_count": null,
   "id": "37e7e5eb-52b6-44cc-af30-f319ff0e767e",
   "metadata": {},
   "outputs": [],
   "source": []
  }
 ],
 "metadata": {
  "kernelspec": {
   "display_name": "Python 3 (ipykernel)",
   "language": "python",
   "name": "python3"
  },
  "language_info": {
   "codemirror_mode": {
    "name": "ipython",
    "version": 3
   },
   "file_extension": ".py",
   "mimetype": "text/x-python",
   "name": "python",
   "nbconvert_exporter": "python",
   "pygments_lexer": "ipython3",
   "version": "3.11.7"
  }
 },
 "nbformat": 4,
 "nbformat_minor": 5
}
